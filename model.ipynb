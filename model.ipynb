{
 "cells": [
  {
   "cell_type": "code",
   "execution_count": 40,
   "id": "5ffab79d",
   "metadata": {},
   "outputs": [],
   "source": [
    "import pandas as pd\n",
    "import numpy as np\n",
    "from sklearn.preprocessing import MultiLabelBinarizer, OneHotEncoder\n",
    "from sklearn.ensemble import RandomForestClassifier\n",
    "from sklearn.model_selection import train_test_split\n",
    "import joblib"
   ]
  },
  {
   "cell_type": "code",
   "execution_count": 41,
   "id": "5a8d0ba1",
   "metadata": {},
   "outputs": [],
   "source": [
    "try:\n",
    "    df = pd.read_csv(\"trek_dataset_with_current_weather.csv\")\n",
    "except FileNotFoundError:\n",
    "    print(\"Error: Dataset file 'trek_dataset_with_current_weather.csv' not found. Please provide the correct path.\")\n",
    "    exit()"
   ]
  },
  {
   "cell_type": "code",
   "execution_count": 42,
   "id": "55c6a19e",
   "metadata": {},
   "outputs": [],
   "source": [
    "df = df.drop(['link_AllTrails', 'image'], axis=1, errors='ignore')"
   ]
  },
  {
   "cell_type": "code",
   "execution_count": 43,
   "id": "32e4406d",
   "metadata": {},
   "outputs": [],
   "source": [
    "df['Length (in km)'] = pd.to_numeric(\n",
    "    df['Length'].astype(str).str.extract(r'(\\d+\\.?\\d*)')[0],\n",
    "    errors='coerce'\n",
    ")"
   ]
  },
  {
   "cell_type": "code",
   "execution_count": 44,
   "id": "3c4148ac",
   "metadata": {},
   "outputs": [],
   "source": [
    "\n",
    "df['Est_time'] = pd.to_numeric(df['Est_time'], errors='coerce').fillna(df['Est_time'].mean())\n",
    "df['number_of_reviews'] = df['number_of_reviews'].abs()\n",
    "df['Average_rating'] = df['Average_rating'].fillna(df['Average_rating'].mean())"
   ]
  },
  {
   "cell_type": "code",
   "execution_count": 45,
   "id": "fdc48d4c",
   "metadata": {},
   "outputs": [],
   "source": [
    "weather_cols = ['latitude', 'longitude', 'current_temperature', 'current_windspeed',\n",
    "                'current_winddirection', 'current_weather_code']\n",
    "for col in weather_cols:\n",
    "    df[col] = pd.to_numeric(df[col], errors='coerce').fillna(df[col].mean())"
   ]
  },
  {
   "cell_type": "code",
   "execution_count": 46,
   "id": "cc865f22",
   "metadata": {},
   "outputs": [],
   "source": [
    "df[['City', 'State', 'Country']] = df['Location'].str.split(',', expand=True)\n",
    "df['City'] = df['City'].str.strip()\n",
    "df['State'] = df['State'].str.strip()\n",
    "df['Country'] = df['Country'].str.strip()\n",
    "df = df.drop('Location', axis=1)\n",
    "season_mapping = {\n",
    "    'Himachal Pradesh': 'April - June, September - November',\n",
    "    'Uttarakhand': 'March - June, September - November',\n",
    "    'Maharashtra': 'October - February',\n",
    "    'Karnataka': 'October - February',\n",
    "    'Kerala': 'September - March',\n",
    "    'Jammu and Kashmir': 'May - October',\n",
    "    'West Bengal': 'October - March',\n",
    "    'Tamil Nadu': 'November - February',\n",
    "    'Goa': 'November - February'\n",
    "}\n",
    "df['Best_Season'] = df['State'].map(season_mapping).fillna('All Year')"
   ]
  },
  {
   "cell_type": "code",
   "execution_count": 47,
   "id": "c213d78a",
   "metadata": {},
   "outputs": [],
   "source": [
    "# Convert Tags to list for MultiLabelBinarizer\n",
    "df['tags_list'] = df['Tags'].str.lower().str.split(', ').apply(lambda x: [tag.strip() for tag in x])"
   ]
  },
  {
   "cell_type": "code",
   "execution_count": null,
   "id": "36ffa243",
   "metadata": {},
   "outputs": [],
   "source": [
    "# Prepare features\n",
    "# Fit and transform tags correctly\n",
    "mlb = MultiLabelBinarizer()\n",
    "mlb.fit(df['tags_list'])  # Fit only\n",
    "tags_encoded = mlb.transform(df['tags_list'])  # Then transform\n",
    "\n",
    "# Now convert to DataFrame\n",
    "tags_df = pd.DataFrame(tags_encoded, columns=mlb.classes_)\n",
    "\n",
    "ohe = OneHotEncoder(sparse_output=False, handle_unknown='ignore')\n",
    "cat_encoded = ohe.fit_transform(df[['Difficulty', 'Best_Season', 'State']])\n",
    "cat_df = pd.DataFrame(cat_encoded, columns=ohe.get_feature_names_out(['Difficulty', 'Best_Season', 'State']))\n",
    "numerical_cols = ['Length (in km)', 'current_windspeed', 'number_of_reviews',\n",
    "                  'Est_time', 'current_temperature', 'current_weather_code']\n",
    "X = pd.concat([df[numerical_cols], cat_df, tags_df], axis=1)\n",
    "y = df['Trail_name']"
   ]
  },
  {
   "cell_type": "code",
   "execution_count": 49,
   "id": "adf609c7",
   "metadata": {},
   "outputs": [],
   "source": [
    "from sklearn.ensemble import RandomForestClassifier\n",
    "from sklearn.model_selection import train_test_split\n",
    "from sklearn.metrics import accuracy_score, classification_report"
   ]
  },
  {
   "cell_type": "code",
   "execution_count": 50,
   "id": "821c872f",
   "metadata": {},
   "outputs": [
    {
     "data": {
      "text/html": [
       "<style>#sk-container-id-2 {color: black;}#sk-container-id-2 pre{padding: 0;}#sk-container-id-2 div.sk-toggleable {background-color: white;}#sk-container-id-2 label.sk-toggleable__label {cursor: pointer;display: block;width: 100%;margin-bottom: 0;padding: 0.3em;box-sizing: border-box;text-align: center;}#sk-container-id-2 label.sk-toggleable__label-arrow:before {content: \"▸\";float: left;margin-right: 0.25em;color: #696969;}#sk-container-id-2 label.sk-toggleable__label-arrow:hover:before {color: black;}#sk-container-id-2 div.sk-estimator:hover label.sk-toggleable__label-arrow:before {color: black;}#sk-container-id-2 div.sk-toggleable__content {max-height: 0;max-width: 0;overflow: hidden;text-align: left;background-color: #f0f8ff;}#sk-container-id-2 div.sk-toggleable__content pre {margin: 0.2em;color: black;border-radius: 0.25em;background-color: #f0f8ff;}#sk-container-id-2 input.sk-toggleable__control:checked~div.sk-toggleable__content {max-height: 200px;max-width: 100%;overflow: auto;}#sk-container-id-2 input.sk-toggleable__control:checked~label.sk-toggleable__label-arrow:before {content: \"▾\";}#sk-container-id-2 div.sk-estimator input.sk-toggleable__control:checked~label.sk-toggleable__label {background-color: #d4ebff;}#sk-container-id-2 div.sk-label input.sk-toggleable__control:checked~label.sk-toggleable__label {background-color: #d4ebff;}#sk-container-id-2 input.sk-hidden--visually {border: 0;clip: rect(1px 1px 1px 1px);clip: rect(1px, 1px, 1px, 1px);height: 1px;margin: -1px;overflow: hidden;padding: 0;position: absolute;width: 1px;}#sk-container-id-2 div.sk-estimator {font-family: monospace;background-color: #f0f8ff;border: 1px dotted black;border-radius: 0.25em;box-sizing: border-box;margin-bottom: 0.5em;}#sk-container-id-2 div.sk-estimator:hover {background-color: #d4ebff;}#sk-container-id-2 div.sk-parallel-item::after {content: \"\";width: 100%;border-bottom: 1px solid gray;flex-grow: 1;}#sk-container-id-2 div.sk-label:hover label.sk-toggleable__label {background-color: #d4ebff;}#sk-container-id-2 div.sk-serial::before {content: \"\";position: absolute;border-left: 1px solid gray;box-sizing: border-box;top: 0;bottom: 0;left: 50%;z-index: 0;}#sk-container-id-2 div.sk-serial {display: flex;flex-direction: column;align-items: center;background-color: white;padding-right: 0.2em;padding-left: 0.2em;position: relative;}#sk-container-id-2 div.sk-item {position: relative;z-index: 1;}#sk-container-id-2 div.sk-parallel {display: flex;align-items: stretch;justify-content: center;background-color: white;position: relative;}#sk-container-id-2 div.sk-item::before, #sk-container-id-2 div.sk-parallel-item::before {content: \"\";position: absolute;border-left: 1px solid gray;box-sizing: border-box;top: 0;bottom: 0;left: 50%;z-index: -1;}#sk-container-id-2 div.sk-parallel-item {display: flex;flex-direction: column;z-index: 1;position: relative;background-color: white;}#sk-container-id-2 div.sk-parallel-item:first-child::after {align-self: flex-end;width: 50%;}#sk-container-id-2 div.sk-parallel-item:last-child::after {align-self: flex-start;width: 50%;}#sk-container-id-2 div.sk-parallel-item:only-child::after {width: 0;}#sk-container-id-2 div.sk-dashed-wrapped {border: 1px dashed gray;margin: 0 0.4em 0.5em 0.4em;box-sizing: border-box;padding-bottom: 0.4em;background-color: white;}#sk-container-id-2 div.sk-label label {font-family: monospace;font-weight: bold;display: inline-block;line-height: 1.2em;}#sk-container-id-2 div.sk-label-container {text-align: center;}#sk-container-id-2 div.sk-container {/* jupyter's `normalize.less` sets `[hidden] { display: none; }` but bootstrap.min.css set `[hidden] { display: none !important; }` so we also need the `!important` here to be able to override the default hidden behavior on the sphinx rendered scikit-learn.org. See: https://github.com/scikit-learn/scikit-learn/issues/21755 */display: inline-block !important;position: relative;}#sk-container-id-2 div.sk-text-repr-fallback {display: none;}</style><div id=\"sk-container-id-2\" class=\"sk-top-container\"><div class=\"sk-text-repr-fallback\"><pre>RandomForestClassifier(class_weight=&#x27;balanced&#x27;, random_state=42)</pre><b>In a Jupyter environment, please rerun this cell to show the HTML representation or trust the notebook. <br />On GitHub, the HTML representation is unable to render, please try loading this page with nbviewer.org.</b></div><div class=\"sk-container\" hidden><div class=\"sk-item\"><div class=\"sk-estimator sk-toggleable\"><input class=\"sk-toggleable__control sk-hidden--visually\" id=\"sk-estimator-id-2\" type=\"checkbox\" checked><label for=\"sk-estimator-id-2\" class=\"sk-toggleable__label sk-toggleable__label-arrow\">RandomForestClassifier</label><div class=\"sk-toggleable__content\"><pre>RandomForestClassifier(class_weight=&#x27;balanced&#x27;, random_state=42)</pre></div></div></div></div></div>"
      ],
      "text/plain": [
       "RandomForestClassifier(class_weight='balanced', random_state=42)"
      ]
     },
     "execution_count": 50,
     "metadata": {},
     "output_type": "execute_result"
    }
   ],
   "source": [
    "X_train, X_test, y_train, y_test = train_test_split(X, y, test_size=0.2, random_state=42)\n",
    "\n",
    "# Train the model\n",
    "trail_classifier = RandomForestClassifier(\n",
    "    n_estimators=100, \n",
    "    random_state=42, \n",
    "    class_weight='balanced'\n",
    ")\n",
    "trail_classifier.fit(X_train, y_train)\n"
   ]
  },
  {
   "cell_type": "code",
   "execution_count": 51,
   "id": "ef33e06c",
   "metadata": {},
   "outputs": [],
   "source": [
    "y_pred = trail_classifier.predict(X_test)"
   ]
  },
  {
   "cell_type": "code",
   "execution_count": 52,
   "id": "6bc315bf",
   "metadata": {},
   "outputs": [
    {
     "name": "stdout",
     "output_type": "stream",
     "text": [
      "Model trained. Accuracy: 0.1714\n"
     ]
    }
   ],
   "source": [
    "print(f\"Model trained. Accuracy: {accuracy_score(y_test, y_pred):.4f}\")\n"
   ]
  },
  {
   "cell_type": "code",
   "execution_count": 54,
   "id": "9f353fca",
   "metadata": {},
   "outputs": [],
   "source": [
    "columns = X.columns.tolist()"
   ]
  },
  {
   "cell_type": "code",
   "execution_count": 55,
   "id": "16372d5c",
   "metadata": {},
   "outputs": [],
   "source": [
    "import joblib"
   ]
  },
  {
   "cell_type": "code",
   "execution_count": 56,
   "id": "c69a6ec3",
   "metadata": {},
   "outputs": [
    {
     "name": "stdout",
     "output_type": "stream",
     "text": [
      "✅ Model, encoders, and processed data saved.\n"
     ]
    }
   ],
   "source": [
    "joblib.dump(trail_classifier, 'model.pkl')\n",
    "joblib.dump(ohe, 'ohe.pkl')\n",
    "joblib.dump(mlb, 'mlb.pkl')\n",
    "joblib.dump(columns, 'columns.pkl')\n",
    "df.to_csv(\"processed_trek_data.csv\", index=False)\n",
    "print(\"✅ Model, encoders, and processed data saved.\")"
   ]
  },
  {
   "cell_type": "code",
   "execution_count": 57,
   "id": "e0211c66",
   "metadata": {},
   "outputs": [],
   "source": [
    "def preprocess_user_input(user_input):\n",
    "    input_data = pd.DataFrame({\n",
    "        'Difficulty': [user_input['Difficulty']],\n",
    "        'Best_Season': [user_input['Best_Season']],\n",
    "        'State': [user_input['State']],\n",
    "        'Length (in km)': [user_input['Length']],\n",
    "        'current_windspeed': [user_input['windspeed']],\n",
    "        'current_temperature': [user_input['temperature']],\n",
    "        'number_of_reviews': [df['number_of_reviews'].mean()],\n",
    "        'Est_time': [df['Est_time'].mean()],\n",
    "        'current_weather_code': [df['current_weather_code'].mean()]\n",
    "    })\n",
    "\n",
    "    try:\n",
    "        encoded_cat = pd.DataFrame(\n",
    "            ohe.transform(input_data[['Difficulty', 'Best_Season', 'State']]),\n",
    "            columns=ohe.get_feature_names_out(['Difficulty', 'Best_Season', 'State'])\n",
    "        )\n",
    "    except Exception as e:\n",
    "        return None, f\"Encoding error: {str(e)}\"\n",
    "\n",
    "    tags_encoded = pd.DataFrame(\n",
    "        mlb.transform([user_input['tags_list']]),\n",
    "        columns=mlb.classes_\n",
    "    )\n",
    "\n",
    "    X_input = pd.concat([\n",
    "        input_data[['Length (in km)', 'current_windspeed', 'current_temperature',\n",
    "                    'number_of_reviews', 'Est_time', 'current_weather_code']],\n",
    "        encoded_cat, tags_encoded\n",
    "    ], axis=1)\n",
    "\n",
    "    for col in columns:\n",
    "        if col not in X_input.columns:\n",
    "            X_input[col] = 0\n",
    "\n",
    "    X_input = X_input[columns]\n",
    "    return X_input, None\n"
   ]
  },
  {
   "cell_type": "code",
   "execution_count": 58,
   "id": "5f49fef1",
   "metadata": {},
   "outputs": [],
   "source": [
    "def predict_trek(state, difficulty, length, temperature, windspeed, tags, season=None):\n",
    "    user_input = {\n",
    "        'State': state,\n",
    "        'Best_Season': season_mapping.get(state, 'All Year') if not season else season,\n",
    "        'Difficulty': difficulty,\n",
    "        'tags_list': tags if tags else ['hiking'],\n",
    "        'Length': length,\n",
    "        'windspeed': windspeed,\n",
    "        'temperature': temperature\n",
    "    }\n",
    "\n",
    "    X_input, error = preprocess_user_input(user_input)\n",
    "    if error:\n",
    "        return {\"error\": error}\n",
    "\n",
    "    try:\n",
    "        proba = model.predict_proba(X_input)[0]\n",
    "        trail_names = model.classes_\n",
    "        top_indices = np.argsort(proba)[-20:][::-1]  # Top 20 candidates\n",
    "\n",
    "        closest_match = None\n",
    "        closest_score = float('inf')\n",
    "        best_proba = 0\n",
    "        warnings = []\n",
    "\n",
    "        for idx in top_indices:\n",
    "            trail = trail_names[idx]\n",
    "            row = df[df['Trail_name'] == trail]\n",
    "\n",
    "            if row.empty:\n",
    "                continue\n",
    "            row = row.iloc[0]\n",
    "\n",
    "            if row['State'] != state:\n",
    "                continue\n",
    "            if row['Difficulty'] != difficulty:\n",
    "                continue\n",
    "\n",
    "            # Scoring by similarity\n",
    "            length_diff = abs(row['Length (in km)'] - length)\n",
    "            wind_diff = abs(row['current_windspeed'] - windspeed)\n",
    "            score = length_diff + 0.5 * wind_diff\n",
    "\n",
    "            if score < closest_score:\n",
    "                closest_score = score\n",
    "                closest_match = row\n",
    "                best_proba = proba[idx]\n",
    "\n",
    "        if closest_match is not None:\n",
    "            # Mismatch warnings\n",
    "            if abs(closest_match['Length (in km)'] - length) > 5:\n",
    "                warnings.append(\"⚠️ Trail length differs by over 5 km from your input.\")\n",
    "            if abs(closest_match['current_windspeed'] - windspeed) > 10:\n",
    "                warnings.append(\"⚠️ Wind speed differs significantly from your input.\")\n",
    "            if closest_match['Difficulty'] != difficulty:\n",
    "                warnings.append(f\"⚠️ Trail difficulty is {closest_match['Difficulty']} but you chose {difficulty}.\")\n",
    "\n",
    "            return {\n",
    "                \"trail_name\": closest_match['Trail_name'],\n",
    "                \"difficulty\": closest_match['Difficulty'],\n",
    "                \"length_km\": closest_match['Length (in km)'],\n",
    "                \"best_season\": closest_match['Best_Season'],\n",
    "                \"state\": closest_match['State'],\n",
    "                \"tags\": closest_match['Tags'],\n",
    "                \"windspeed\": closest_match['current_windspeed'],\n",
    "                \"temperature\": closest_match['current_temperature'],\n",
    "                \"description\": closest_match['description'],\n",
    "                \"confidence\": round(best_proba * 100, 2),\n",
    "                \"warnings\": warnings\n",
    "            }\n",
    "\n",
    "        return {\"error\": f\"No suitable trek found in {state}. Try different inputs.\"}\n",
    "    except Exception as e:\n",
    "        return {\"error\": f\"Prediction failed: {str(e)}\"}\n"
   ]
  }
 ],
 "metadata": {
  "kernelspec": {
   "display_name": "base",
   "language": "python",
   "name": "python3"
  },
  "language_info": {
   "codemirror_mode": {
    "name": "ipython",
    "version": 3
   },
   "file_extension": ".py",
   "mimetype": "text/x-python",
   "name": "python",
   "nbconvert_exporter": "python",
   "pygments_lexer": "ipython3",
   "version": "3.11.5"
  }
 },
 "nbformat": 4,
 "nbformat_minor": 5
}
